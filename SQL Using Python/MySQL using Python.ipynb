{
 "cells": [
  {
   "cell_type": "markdown",
   "id": "c48685ce",
   "metadata": {},
   "source": [
    "### Install"
   ]
  },
  {
   "cell_type": "code",
   "execution_count": 171,
   "id": "f59d916c",
   "metadata": {},
   "outputs": [
    {
     "name": "stdout",
     "output_type": "stream",
     "text": [
      "Requirement already satisfied: mysql-connector-python in /opt/anaconda3/lib/python3.9/site-packages (8.1.0)\n",
      "Requirement already satisfied: protobuf<=4.21.12,>=4.21.1 in /opt/anaconda3/lib/python3.9/site-packages (from mysql-connector-python) (4.21.12)\n",
      "\u001b[33mDEPRECATION: pyodbc 4.0.0-unsupported has a non-standard version number. pip 23.3 will enforce this behaviour change. A possible replacement is to upgrade to a newer version of pyodbc or contact the author to suggest that they release a version with a conforming version number. Discussion can be found at https://github.com/pypa/pip/issues/12063\u001b[0m\u001b[33m\n",
      "\u001b[0m\n",
      "\u001b[1m[\u001b[0m\u001b[34;49mnotice\u001b[0m\u001b[1;39;49m]\u001b[0m\u001b[39;49m A new release of pip is available: \u001b[0m\u001b[31;49m23.2\u001b[0m\u001b[39;49m -> \u001b[0m\u001b[32;49m23.2.1\u001b[0m\n",
      "\u001b[1m[\u001b[0m\u001b[34;49mnotice\u001b[0m\u001b[1;39;49m]\u001b[0m\u001b[39;49m To update, run: \u001b[0m\u001b[32;49mpip install --upgrade pip\u001b[0m\n"
     ]
    }
   ],
   "source": [
    "!pip3 install mysql-connector-python"
   ]
  },
  {
   "cell_type": "markdown",
   "id": "7c088a30",
   "metadata": {},
   "source": [
    "### import package"
   ]
  },
  {
   "cell_type": "code",
   "execution_count": 172,
   "id": "424b7bc8-2ceb-44ab-a70f-001411d6ce75",
   "metadata": {},
   "outputs": [],
   "source": [
    "import mysql"
   ]
  },
  {
   "cell_type": "code",
   "execution_count": null,
   "id": "d47a4d8c-4e96-4cc5-a940-1abed1018b58",
   "metadata": {},
   "outputs": [],
   "source": [
    "mysql."
   ]
  },
  {
   "cell_type": "code",
   "execution_count": 173,
   "id": "a21bcbe9-d946-43b0-adf3-55601dd5f86b",
   "metadata": {},
   "outputs": [],
   "source": [
    "import mysql\n",
    "from mysql import connector\n",
    "import mysql.connector"
   ]
  },
  {
   "cell_type": "code",
   "execution_count": 146,
   "id": "75578b84",
   "metadata": {},
   "outputs": [],
   "source": [
    "from mysql import connector"
   ]
  },
  {
   "cell_type": "markdown",
   "id": "54e79c01-3d15-4286-98ab-1bff2e642d31",
   "metadata": {},
   "source": [
    "## Connecting to Database"
   ]
  },
  {
   "cell_type": "code",
   "execution_count": 174,
   "id": "90e9c956",
   "metadata": {},
   "outputs": [
    {
     "name": "stdout",
     "output_type": "stream",
     "text": [
      "<mysql.connector.connection.MySQLConnection object at 0x7fafd8fb0490>\n"
     ]
    }
   ],
   "source": [
    "sqlcourse = connector.connect(\n",
    "  host=\"localhost\",\n",
    "  user=\"root\",\n",
    "  password=\"viswa2005\"\n",
    "    \n",
    ")\n",
    "\n",
    "print(sqlcourse)"
   ]
  },
  {
   "cell_type": "markdown",
   "id": "40e1e601-32c0-4673-960b-f973f1f53f3b",
   "metadata": {},
   "source": [
    "## Defining the cursor to execure the commands"
   ]
  },
  {
   "cell_type": "code",
   "execution_count": 133,
   "id": "509e9c0a",
   "metadata": {},
   "outputs": [],
   "source": [
    "cur = sqlcourse.cursor()"
   ]
  },
  {
   "cell_type": "markdown",
   "id": "21ad05bb-54c8-4f79-9741-20068f4b414f",
   "metadata": {},
   "source": [
    "## Creating a new database"
   ]
  },
  {
   "cell_type": "code",
   "execution_count": 113,
   "id": "5eabd79f-fb2e-4c23-8b4c-9bdad2734694",
   "metadata": {},
   "outputs": [],
   "source": [
    "#cur.execute(\"DROP DATABASE sqldemo\")"
   ]
  },
  {
   "cell_type": "code",
   "execution_count": 177,
   "id": "b7bec2d4-ce34-4917-b382-7fa6ad553085",
   "metadata": {},
   "outputs": [],
   "source": [
    "cur.execute(\"CREATE DATABASE IF NOT EXISTS myfristdb\")"
   ]
  },
  {
   "cell_type": "code",
   "execution_count": 181,
   "id": "3157f424",
   "metadata": {},
   "outputs": [
    {
     "name": "stdout",
     "output_type": "stream",
     "text": [
      "MySQLCursor: CREATE DATABASE IF NOT EXISTS sqldemo4\n"
     ]
    }
   ],
   "source": [
    "cur.execute(\"CREATE DATABASE IF NOT EXISTS sqldemo4\")\n",
    "print(cur)"
   ]
  },
  {
   "cell_type": "code",
   "execution_count": 182,
   "id": "c76de10f-185f-4879-afd2-d0bc0c39a552",
   "metadata": {},
   "outputs": [
    {
     "ename": "TypeError",
     "evalue": "'NoneType' object is not callable",
     "output_type": "error",
     "traceback": [
      "\u001b[0;31m---------------------------------------------------------------------------\u001b[0m",
      "\u001b[0;31mTypeError\u001b[0m                                 Traceback (most recent call last)",
      "\u001b[0;32m/var/folders/_z/h_t8y3816jj7177cm3vrng200000gn/T/ipykernel_94654/1533116551.py\u001b[0m in \u001b[0;36m<module>\u001b[0;34m\u001b[0m\n\u001b[0;32m----> 1\u001b[0;31m \u001b[0mcur\u001b[0m\u001b[0;34m.\u001b[0m\u001b[0mdescription\u001b[0m\u001b[0;34m(\u001b[0m\u001b[0;34m)\u001b[0m\u001b[0;34m\u001b[0m\u001b[0;34m\u001b[0m\u001b[0m\n\u001b[0m",
      "\u001b[0;31mTypeError\u001b[0m: 'NoneType' object is not callable"
     ]
    }
   ],
   "source": [
    "c"
   ]
  },
  {
   "cell_type": "markdown",
   "id": "232ba970-ab1d-464a-a344-ecad0375431c",
   "metadata": {},
   "source": [
    "## Check if Database Exists"
   ]
  },
  {
   "cell_type": "code",
   "execution_count": 183,
   "id": "4e6bf647",
   "metadata": {},
   "outputs": [],
   "source": [
    "cur.execute(\"SHOW DATABASES\")"
   ]
  },
  {
   "cell_type": "code",
   "execution_count": 184,
   "id": "2b39b76a",
   "metadata": {},
   "outputs": [
    {
     "name": "stdout",
     "output_type": "stream",
     "text": [
      "('information_schema',)\n",
      "('mydemo123',)\n",
      "('mydemoxyz',)\n",
      "('myfristdb',)\n",
      "('mysql',)\n",
      "('order_database',)\n",
      "('performance_schema',)\n",
      "('sqldemo1',)\n",
      "('sqldemo2',)\n",
      "('sqldemo4',)\n",
      "('sqlfordemo',)\n",
      "('Supply_chain',)\n",
      "('sys',)\n"
     ]
    }
   ],
   "source": [
    "for db in cur:\n",
    "    print(db)"
   ]
  },
  {
   "cell_type": "code",
   "execution_count": 185,
   "id": "531eb168",
   "metadata": {},
   "outputs": [],
   "source": [
    "cur.execute(\"use sqldemo4\")"
   ]
  },
  {
   "cell_type": "code",
   "execution_count": 186,
   "id": "10e7fee1",
   "metadata": {},
   "outputs": [],
   "source": [
    "\n",
    "cur.execute(\"CREATE TABLE customers_list1 (name VARCHAR(255), address VARCHAR(255))\")"
   ]
  },
  {
   "cell_type": "code",
   "execution_count": null,
   "id": "260ef9c8-56e6-42b4-a404-7a9509dfc6df",
   "metadata": {},
   "outputs": [],
   "source": []
  },
  {
   "cell_type": "markdown",
   "id": "47f75e95-e410-45f5-b02c-e76d448e81ce",
   "metadata": {},
   "source": [
    "## Primary Key\n",
    "### When creating a table, you should also create a column with a unique key for each record.\n",
    "\n",
    "### This can be done by defining a PRIMARY KEY."
   ]
  },
  {
   "cell_type": "code",
   "execution_count": 187,
   "id": "2e00b18d-a170-4cdc-b088-f2275be2d361",
   "metadata": {},
   "outputs": [],
   "source": [
    "# if table already exists use ALTER TABLE\n",
    "cur.execute(\"ALTER TABLE customers_list1 ADD COLUMN id INT AUTO_INCREMENT PRIMARY KEY\")"
   ]
  },
  {
   "cell_type": "markdown",
   "id": "5e5ca3c0-4ce3-41f3-8914-82834e8e4e14",
   "metadata": {},
   "source": [
    "## Insert into table"
   ]
  },
  {
   "cell_type": "code",
   "execution_count": 140,
   "id": "3f936b5a",
   "metadata": {},
   "outputs": [],
   "source": [
    "def data_entry_table():\n",
    "    cur.execute(\"INSERT INTO customers_list VALUES('Rohan','Car street, 5')\")\n",
    "    \n",
    "    sqlcourse.commit()"
   ]
  },
  {
   "cell_type": "code",
   "execution_count": null,
   "id": "3c0c666d-0e3e-41f8-af2e-9a69db449db5",
   "metadata": {},
   "outputs": [],
   "source": [
    "# list - [], any datatype/object, mutable - manipulation to list is possible\n",
    "# tuple - () - any dataype, immutable\n",
    "#dictionary\n",
    "#set"
   ]
  },
  {
   "cell_type": "code",
   "execution_count": null,
   "id": "bf0002fa-8ee0-42ac-b013-8e1f22edd433",
   "metadata": {},
   "outputs": [],
   "source": [
    "cur.execute(\"INSERT INTO customers_list1 (name, address) VALUES ('ABC','45,xyz street\" ))\n",
    "cur.execute(\"INSERT INTO customers_list1 (name, address) VALUES ('def','25,stu street\" ))"
   ]
  },
  {
   "cell_type": "code",
   "execution_count": 189,
   "id": "3726edb6-1538-4563-a1a7-d084a314d61e",
   "metadata": {},
   "outputs": [],
   "source": [
    "sql = \"INSERT INTO customers_list1 (name, address) VALUES (%s, %s)\"\n",
    "val = [\n",
    "  ('Peterson', 'Lowlystreet 4'),\n",
    "  ('Amira', 'Loveland st 652'),\n",
    "  ( 'Harry', 'Mountainblue 21'),\n",
    "  ('Mike', 'DownValley 345'),\n",
    "  ('Sandra', 'Ocean blvd 2'),\n",
    "  ('Betson', 'Green Grass 1'),\n",
    "  ('Ricky', 'Sky st 331'),\n",
    "  ('Sunny', 'One way 98'),\n",
    "  ('Victor', 'Yellow Garden 2'),\n",
    "  ('Bobby', 'Park Lane 38'),\n",
    "  ('Wilson', 'Central st 954'),\n",
    "  ('Chuan', 'Main Road 989'),\n",
    "  ('Violet', 'Sideway 1633')\n",
    "]\n",
    "\n",
    "cur.executemany(sql, val)\n",
    "\n",
    "sqlcourse.commit()\n"
   ]
  },
  {
   "cell_type": "code",
   "execution_count": null,
   "id": "decaaee0-162b-4789-9b6a-9e88e1501b02",
   "metadata": {},
   "outputs": [],
   "source": [
    "cur."
   ]
  },
  {
   "cell_type": "code",
   "execution_count": 191,
   "id": "422fff9d-c133-4793-9d75-35ce9eb88979",
   "metadata": {},
   "outputs": [
    {
     "name": "stdout",
     "output_type": "stream",
     "text": [
      "13 rows were inserted.\n"
     ]
    }
   ],
   "source": [
    "print(cur.rowcount, \"rows were inserted.\")"
   ]
  },
  {
   "cell_type": "code",
   "execution_count": 193,
   "id": "798226fc-bc9a-4bbe-abe8-19a17a78cb10",
   "metadata": {},
   "outputs": [
    {
     "name": "stdout",
     "output_type": "stream",
     "text": [
      "1 record inserted, ID: 27\n"
     ]
    }
   ],
   "source": [
    "# Get Inserted ID\n",
    "sql = \"INSERT INTO customers_list1 (name, address) VALUES (%s, %s)\"\n",
    "val = (\"Michelle\", \"Blue Village\")\n",
    "cur.execute(sql, val)\n",
    "\n",
    "sqlcourse.commit()\n",
    "\n",
    "print(\"1 record inserted, ID:\", cur.lastrowid)"
   ]
  },
  {
   "cell_type": "code",
   "execution_count": 194,
   "id": "1d9d2a0e-5534-4b17-a0f6-777970059637",
   "metadata": {},
   "outputs": [
    {
     "name": "stdout",
     "output_type": "stream",
     "text": [
      "[('Peterson', 'Lowlystreet 4', 1), ('Amira', 'Loveland st 652', 2), ('Harry', 'Mountainblue 21', 3), ('Mike', 'DownValley 345', 4), ('Sandra', 'Ocean blvd 2', 5), ('Betson', 'Green Grass 1', 6), ('Ricky', 'Sky st 331', 7), ('Sunny', 'One way 98', 8), ('Victor', 'Yellow Garden 2', 9), ('Bobby', 'Park Lane 38', 10), ('Wilson', 'Central st 954', 11), ('Chuan', 'Main Road 989', 12), ('Violet', 'Sideway 1633', 13), ('Peterson', 'Lowlystreet 4', 14), ('Amira', 'Loveland st 652', 15), ('Harry', 'Mountainblue 21', 16), ('Mike', 'DownValley 345', 17), ('Sandra', 'Ocean blvd 2', 18), ('Betson', 'Green Grass 1', 19), ('Ricky', 'Sky st 331', 20), ('Sunny', 'One way 98', 21), ('Victor', 'Yellow Garden 2', 22), ('Bobby', 'Park Lane 38', 23), ('Wilson', 'Central st 954', 24), ('Chuan', 'Main Road 989', 25), ('Violet', 'Sideway 1633', 26), ('Michelle', 'Blue Village', 27)]\n",
      "('Peterson', 'Lowlystreet 4', 1)\n",
      "('Amira', 'Loveland st 652', 2)\n",
      "('Harry', 'Mountainblue 21', 3)\n",
      "('Mike', 'DownValley 345', 4)\n",
      "('Sandra', 'Ocean blvd 2', 5)\n",
      "('Betson', 'Green Grass 1', 6)\n",
      "('Ricky', 'Sky st 331', 7)\n",
      "('Sunny', 'One way 98', 8)\n",
      "('Victor', 'Yellow Garden 2', 9)\n",
      "('Bobby', 'Park Lane 38', 10)\n",
      "('Wilson', 'Central st 954', 11)\n",
      "('Chuan', 'Main Road 989', 12)\n",
      "('Violet', 'Sideway 1633', 13)\n",
      "('Peterson', 'Lowlystreet 4', 14)\n",
      "('Amira', 'Loveland st 652', 15)\n",
      "('Harry', 'Mountainblue 21', 16)\n",
      "('Mike', 'DownValley 345', 17)\n",
      "('Sandra', 'Ocean blvd 2', 18)\n",
      "('Betson', 'Green Grass 1', 19)\n",
      "('Ricky', 'Sky st 331', 20)\n",
      "('Sunny', 'One way 98', 21)\n",
      "('Victor', 'Yellow Garden 2', 22)\n",
      "('Bobby', 'Park Lane 38', 23)\n",
      "('Wilson', 'Central st 954', 24)\n",
      "('Chuan', 'Main Road 989', 25)\n",
      "('Violet', 'Sideway 1633', 26)\n",
      "('Michelle', 'Blue Village', 27)\n"
     ]
    }
   ],
   "source": [
    "# SELECT Command\n",
    "cur.execute(\"SELECT * FROM customers_list1\")\n",
    "\n",
    "myresult = cur.fetchall()\n",
    "print(myresult)\n",
    "for x in myresult:\n",
    "  print(x)"
   ]
  },
  {
   "cell_type": "code",
   "execution_count": 206,
   "id": "046adb83-12b1-44e6-b709-f07f54f61ba6",
   "metadata": {},
   "outputs": [
    {
     "name": "stdout",
     "output_type": "stream",
     "text": [
      "('Loveland st 652', 'Amira')\n",
      "('Loveland st 652', 'Amira')\n",
      "('Green Grass 1', 'Betson')\n",
      "('Green Grass 1', 'Betson')\n",
      "('Park Lane 38', 'Bobby')\n"
     ]
    }
   ],
   "source": [
    "# Selecting columns\n",
    "\n",
    "cur.execute(\"SELECT address, name FROM customers_list1 ORDER BY name limit 5\")\n",
    "\n",
    "myresult = cur.fetchall()\n",
    "\n",
    "for x in myresult:\n",
    "  print(x)"
   ]
  },
  {
   "cell_type": "code",
   "execution_count": 125,
   "id": "51cf95ce-f9eb-43dc-bebd-b72dd83c38b3",
   "metadata": {},
   "outputs": [
    {
     "name": "stdout",
     "output_type": "stream",
     "text": [
      "('Peterson', 'Lowlystreet 4', 1)\n"
     ]
    }
   ],
   "source": [
    "# Using the fetchone() Method\n",
    "#If you are only interested in one row, you can use the fetchone() method.\n",
    "\n",
    "#The fetchone() method will return the first row of the result:\n",
    "cur.execute(\"SELECT * FROM customers_list\")\n",
    "\n",
    "myresult = cur.fetchone()\n",
    "\n",
    "print(myresult)"
   ]
  },
  {
   "cell_type": "code",
   "execution_count": 170,
   "id": "480f0295-a32e-479f-864c-be54bbe4b0a6",
   "metadata": {},
   "outputs": [
    {
     "ename": "ProgrammingError",
     "evalue": "1064 (42000): You have an error in your SQL syntax; check the manual that corresponds to your MySQL server version for the right syntax to use near ''%st%' at line 1",
     "output_type": "error",
     "traceback": [
      "\u001b[0;31m---------------------------------------------------------------------------\u001b[0m",
      "\u001b[0;31mProgrammingError\u001b[0m                          Traceback (most recent call last)",
      "\u001b[0;32m/var/folders/_z/h_t8y3816jj7177cm3vrng200000gn/T/ipykernel_94654/1218335042.py\u001b[0m in \u001b[0;36m<module>\u001b[0;34m\u001b[0m\n\u001b[1;32m      3\u001b[0m \u001b[0;34m\u001b[0m\u001b[0m\n\u001b[1;32m      4\u001b[0m \u001b[0;31m# Executing query\u001b[0m\u001b[0;34m\u001b[0m\u001b[0;34m\u001b[0m\u001b[0m\n\u001b[0;32m----> 5\u001b[0;31m \u001b[0mcur\u001b[0m\u001b[0;34m.\u001b[0m\u001b[0mexecute\u001b[0m\u001b[0;34m(\u001b[0m\u001b[0msql\u001b[0m\u001b[0;34m)\u001b[0m\u001b[0;34m\u001b[0m\u001b[0;34m\u001b[0m\u001b[0m\n\u001b[0m\u001b[1;32m      6\u001b[0m \u001b[0;34m\u001b[0m\u001b[0m\n\u001b[1;32m      7\u001b[0m \u001b[0mmyresult\u001b[0m \u001b[0;34m=\u001b[0m \u001b[0mcur\u001b[0m\u001b[0;34m.\u001b[0m\u001b[0mfetchall\u001b[0m\u001b[0;34m(\u001b[0m\u001b[0;34m)\u001b[0m\u001b[0;34m\u001b[0m\u001b[0;34m\u001b[0m\u001b[0m\n",
      "\u001b[0;32m/opt/anaconda3/lib/python3.9/site-packages/mysql/connector/cursor.py\u001b[0m in \u001b[0;36mexecute\u001b[0;34m(self, operation, params, multi)\u001b[0m\n\u001b[1;32m    615\u001b[0m \u001b[0;34m\u001b[0m\u001b[0m\n\u001b[1;32m    616\u001b[0m         \u001b[0;32mtry\u001b[0m\u001b[0;34m:\u001b[0m\u001b[0;34m\u001b[0m\u001b[0;34m\u001b[0m\u001b[0m\n\u001b[0;32m--> 617\u001b[0;31m             \u001b[0mself\u001b[0m\u001b[0;34m.\u001b[0m\u001b[0m_handle_result\u001b[0m\u001b[0;34m(\u001b[0m\u001b[0mself\u001b[0m\u001b[0;34m.\u001b[0m\u001b[0m_connection\u001b[0m\u001b[0;34m.\u001b[0m\u001b[0mcmd_query\u001b[0m\u001b[0;34m(\u001b[0m\u001b[0mstmt\u001b[0m\u001b[0;34m)\u001b[0m\u001b[0;34m)\u001b[0m\u001b[0;34m\u001b[0m\u001b[0;34m\u001b[0m\u001b[0m\n\u001b[0m\u001b[1;32m    618\u001b[0m         \u001b[0;32mexcept\u001b[0m \u001b[0mInterfaceError\u001b[0m \u001b[0;32mas\u001b[0m \u001b[0merr\u001b[0m\u001b[0;34m:\u001b[0m\u001b[0;34m\u001b[0m\u001b[0;34m\u001b[0m\u001b[0m\n\u001b[1;32m    619\u001b[0m             \u001b[0;32mif\u001b[0m \u001b[0mself\u001b[0m\u001b[0;34m.\u001b[0m\u001b[0m_connection\u001b[0m\u001b[0;34m.\u001b[0m\u001b[0mhave_next_result\u001b[0m\u001b[0;34m:\u001b[0m\u001b[0;34m\u001b[0m\u001b[0;34m\u001b[0m\u001b[0m\n",
      "\u001b[0;32m/opt/anaconda3/lib/python3.9/site-packages/mysql/connector/opentelemetry/context_propagation.py\u001b[0m in \u001b[0;36mwrapper\u001b[0;34m(cnx, *args, **kwargs)\u001b[0m\n\u001b[1;32m     84\u001b[0m \u001b[0;34m\u001b[0m\u001b[0m\n\u001b[1;32m     85\u001b[0m         \u001b[0;32mtry\u001b[0m\u001b[0;34m:\u001b[0m\u001b[0;34m\u001b[0m\u001b[0;34m\u001b[0m\u001b[0m\n\u001b[0;32m---> 86\u001b[0;31m             \u001b[0mresult\u001b[0m \u001b[0;34m=\u001b[0m \u001b[0mmethod\u001b[0m\u001b[0;34m(\u001b[0m\u001b[0mcnx\u001b[0m\u001b[0;34m,\u001b[0m \u001b[0;34m*\u001b[0m\u001b[0margs\u001b[0m\u001b[0;34m,\u001b[0m \u001b[0;34m**\u001b[0m\u001b[0mkwargs\u001b[0m\u001b[0;34m)\u001b[0m\u001b[0;34m\u001b[0m\u001b[0;34m\u001b[0m\u001b[0m\n\u001b[0m\u001b[1;32m     87\u001b[0m         \u001b[0;32mfinally\u001b[0m\u001b[0;34m:\u001b[0m\u001b[0;34m\u001b[0m\u001b[0;34m\u001b[0m\u001b[0m\n\u001b[1;32m     88\u001b[0m             \u001b[0;32mif\u001b[0m \u001b[0mtp_header\u001b[0m \u001b[0;32mis\u001b[0m \u001b[0;32mnot\u001b[0m \u001b[0;32mNone\u001b[0m\u001b[0;34m:\u001b[0m\u001b[0;34m\u001b[0m\u001b[0;34m\u001b[0m\u001b[0m\n",
      "\u001b[0;32m/opt/anaconda3/lib/python3.9/site-packages/mysql/connector/connection.py\u001b[0m in \u001b[0;36mcmd_query\u001b[0;34m(self, query, raw, buffered, raw_as_string)\u001b[0m\n\u001b[1;32m   1067\u001b[0m         \u001b[0mquery\u001b[0m \u001b[0;34m=\u001b[0m \u001b[0mbytes\u001b[0m\u001b[0;34m(\u001b[0m\u001b[0mpacket\u001b[0m\u001b[0;34m)\u001b[0m\u001b[0;34m\u001b[0m\u001b[0;34m\u001b[0m\u001b[0m\n\u001b[1;32m   1068\u001b[0m         \u001b[0;32mtry\u001b[0m\u001b[0;34m:\u001b[0m\u001b[0;34m\u001b[0m\u001b[0;34m\u001b[0m\u001b[0m\n\u001b[0;32m-> 1069\u001b[0;31m             \u001b[0mresult\u001b[0m \u001b[0;34m=\u001b[0m \u001b[0mself\u001b[0m\u001b[0;34m.\u001b[0m\u001b[0m_handle_result\u001b[0m\u001b[0;34m(\u001b[0m\u001b[0mself\u001b[0m\u001b[0;34m.\u001b[0m\u001b[0m_send_cmd\u001b[0m\u001b[0;34m(\u001b[0m\u001b[0mServerCmd\u001b[0m\u001b[0;34m.\u001b[0m\u001b[0mQUERY\u001b[0m\u001b[0;34m,\u001b[0m \u001b[0mquery\u001b[0m\u001b[0;34m)\u001b[0m\u001b[0;34m)\u001b[0m\u001b[0;34m\u001b[0m\u001b[0;34m\u001b[0m\u001b[0m\n\u001b[0m\u001b[1;32m   1070\u001b[0m         \u001b[0;32mexcept\u001b[0m \u001b[0mProgrammingError\u001b[0m \u001b[0;32mas\u001b[0m \u001b[0merr\u001b[0m\u001b[0;34m:\u001b[0m\u001b[0;34m\u001b[0m\u001b[0;34m\u001b[0m\u001b[0m\n\u001b[1;32m   1071\u001b[0m             \u001b[0;32mif\u001b[0m \u001b[0merr\u001b[0m\u001b[0;34m.\u001b[0m\u001b[0merrno\u001b[0m \u001b[0;34m==\u001b[0m \u001b[0;36m3948\u001b[0m \u001b[0;32mand\u001b[0m \u001b[0;34m\"Loading local data is disabled\"\u001b[0m \u001b[0;32min\u001b[0m \u001b[0merr\u001b[0m\u001b[0;34m.\u001b[0m\u001b[0mmsg\u001b[0m\u001b[0;34m:\u001b[0m\u001b[0;34m\u001b[0m\u001b[0;34m\u001b[0m\u001b[0m\n",
      "\u001b[0;32m/opt/anaconda3/lib/python3.9/site-packages/mysql/connector/connection.py\u001b[0m in \u001b[0;36m_handle_result\u001b[0;34m(self, packet)\u001b[0m\n\u001b[1;32m    844\u001b[0m             \u001b[0;32mreturn\u001b[0m \u001b[0mself\u001b[0m\u001b[0;34m.\u001b[0m\u001b[0m_handle_eof\u001b[0m\u001b[0;34m(\u001b[0m\u001b[0mpacket\u001b[0m\u001b[0;34m)\u001b[0m\u001b[0;34m\u001b[0m\u001b[0;34m\u001b[0m\u001b[0m\n\u001b[1;32m    845\u001b[0m         \u001b[0;32mif\u001b[0m \u001b[0mpacket\u001b[0m\u001b[0;34m[\u001b[0m\u001b[0;36m4\u001b[0m\u001b[0;34m]\u001b[0m \u001b[0;34m==\u001b[0m \u001b[0;36m255\u001b[0m\u001b[0;34m:\u001b[0m\u001b[0;34m\u001b[0m\u001b[0;34m\u001b[0m\u001b[0m\n\u001b[0;32m--> 846\u001b[0;31m             \u001b[0;32mraise\u001b[0m \u001b[0mget_exception\u001b[0m\u001b[0;34m(\u001b[0m\u001b[0mpacket\u001b[0m\u001b[0;34m)\u001b[0m\u001b[0;34m\u001b[0m\u001b[0;34m\u001b[0m\u001b[0m\n\u001b[0m\u001b[1;32m    847\u001b[0m \u001b[0;34m\u001b[0m\u001b[0m\n\u001b[1;32m    848\u001b[0m         \u001b[0;31m# We have a text result set\u001b[0m\u001b[0;34m\u001b[0m\u001b[0;34m\u001b[0m\u001b[0m\n",
      "\u001b[0;31mProgrammingError\u001b[0m: 1064 (42000): You have an error in your SQL syntax; check the manual that corresponds to your MySQL server version for the right syntax to use near ''%st%' at line 1"
     ]
    }
   ],
   "source": [
    "# SQL Query - where, order by, limit\n",
    "sql = \"select * from customers_list where address like '%st%\"\n",
    "  \n",
    "# Executing query\n",
    "cur.execute(sql)\n",
    "  \n",
    "myresult = cur.fetchall()\n",
    "  \n",
    "for x in myresult:\n",
    "    print(x)"
   ]
  },
  {
   "cell_type": "code",
   "execution_count": 208,
   "id": "c6b54a44-0865-468c-8397-b01bef42f79d",
   "metadata": {},
   "outputs": [
    {
     "name": "stdout",
     "output_type": "stream",
     "text": [
      "the name of the customer is:  ('Victor',)\n",
      "the name of the customer is:  ('Victor',)\n"
     ]
    }
   ],
   "source": [
    "# SQL Query - where, order by, limit\n",
    "sql = \"select name from customers_list1 where address = 'Yellow Garden 2'\"\n",
    "  \n",
    "# Executing query\n",
    "cur.execute(sql)\n",
    "  \n",
    "myresult = cur.fetchall()\n",
    "  \n",
    "for x in myresult:\n",
    "    print(\"the name of the customer is: \", x)"
   ]
  },
  {
   "cell_type": "code",
   "execution_count": 128,
   "id": "455301e3-3c0b-492f-96ae-76153011787c",
   "metadata": {},
   "outputs": [
    {
     "ename": "InternalError",
     "evalue": "Unread result found",
     "output_type": "error",
     "traceback": [
      "\u001b[0;31m---------------------------------------------------------------------------\u001b[0m",
      "\u001b[0;31mInternalError\u001b[0m                             Traceback (most recent call last)",
      "\u001b[0;32m/var/folders/_z/h_t8y3816jj7177cm3vrng200000gn/T/ipykernel_94654/1935745703.py\u001b[0m in \u001b[0;36m<module>\u001b[0;34m\u001b[0m\n\u001b[1;32m      2\u001b[0m \u001b[0;31m#sql = \"SELECT * FROM customers_list WHERE address ='Park Lane 38'\"\u001b[0m\u001b[0;34m\u001b[0m\u001b[0;34m\u001b[0m\u001b[0m\n\u001b[1;32m      3\u001b[0m \u001b[0;34m\u001b[0m\u001b[0m\n\u001b[0;32m----> 4\u001b[0;31m \u001b[0mcur\u001b[0m\u001b[0;34m.\u001b[0m\u001b[0mexecute\u001b[0m\u001b[0;34m(\u001b[0m\u001b[0;34m\"SELECT * FROM customers_list\"\u001b[0m\u001b[0;34m)\u001b[0m\u001b[0;34m\u001b[0m\u001b[0;34m\u001b[0m\u001b[0m\n\u001b[0m\u001b[1;32m      5\u001b[0m \u001b[0;34m\u001b[0m\u001b[0m\n\u001b[1;32m      6\u001b[0m \u001b[0mmyresult1\u001b[0m \u001b[0;34m=\u001b[0m \u001b[0mcur\u001b[0m\u001b[0;34m.\u001b[0m\u001b[0mfetchall\u001b[0m\u001b[0;34m(\u001b[0m\u001b[0;34m)\u001b[0m\u001b[0;34m\u001b[0m\u001b[0;34m\u001b[0m\u001b[0m\n",
      "\u001b[0;32m/opt/anaconda3/lib/python3.9/site-packages/mysql/connector/cursor.py\u001b[0m in \u001b[0;36mexecute\u001b[0;34m(self, operation, params, multi)\u001b[0m\n\u001b[1;32m    580\u001b[0m             \u001b[0;32mraise\u001b[0m \u001b[0mProgrammingError\u001b[0m\u001b[0;34m(\u001b[0m\u001b[0;34m\"Cursor is not connected\"\u001b[0m\u001b[0;34m)\u001b[0m \u001b[0;32mfrom\u001b[0m \u001b[0merr\u001b[0m\u001b[0;34m\u001b[0m\u001b[0;34m\u001b[0m\u001b[0m\n\u001b[1;32m    581\u001b[0m \u001b[0;34m\u001b[0m\u001b[0m\n\u001b[0;32m--> 582\u001b[0;31m         \u001b[0mself\u001b[0m\u001b[0;34m.\u001b[0m\u001b[0m_connection\u001b[0m\u001b[0;34m.\u001b[0m\u001b[0mhandle_unread_result\u001b[0m\u001b[0;34m(\u001b[0m\u001b[0;34m)\u001b[0m\u001b[0;34m\u001b[0m\u001b[0;34m\u001b[0m\u001b[0m\n\u001b[0m\u001b[1;32m    583\u001b[0m \u001b[0;34m\u001b[0m\u001b[0m\n\u001b[1;32m    584\u001b[0m         \u001b[0mself\u001b[0m\u001b[0;34m.\u001b[0m\u001b[0m_reset_result\u001b[0m\u001b[0;34m(\u001b[0m\u001b[0;34m)\u001b[0m\u001b[0;34m\u001b[0m\u001b[0;34m\u001b[0m\u001b[0m\n",
      "\u001b[0;32m/opt/anaconda3/lib/python3.9/site-packages/mysql/connector/connection.py\u001b[0m in \u001b[0;36mhandle_unread_result\u001b[0;34m(self)\u001b[0m\n\u001b[1;32m   1739\u001b[0m             \u001b[0mself\u001b[0m\u001b[0;34m.\u001b[0m\u001b[0mconsume_results\u001b[0m\u001b[0;34m(\u001b[0m\u001b[0;34m)\u001b[0m\u001b[0;34m\u001b[0m\u001b[0;34m\u001b[0m\u001b[0m\n\u001b[1;32m   1740\u001b[0m         \u001b[0;32melif\u001b[0m \u001b[0mself\u001b[0m\u001b[0;34m.\u001b[0m\u001b[0munread_result\u001b[0m\u001b[0;34m:\u001b[0m\u001b[0;34m\u001b[0m\u001b[0;34m\u001b[0m\u001b[0m\n\u001b[0;32m-> 1741\u001b[0;31m             \u001b[0;32mraise\u001b[0m \u001b[0mInternalError\u001b[0m\u001b[0;34m(\u001b[0m\u001b[0;34m\"Unread result found\"\u001b[0m\u001b[0;34m)\u001b[0m\u001b[0;34m\u001b[0m\u001b[0;34m\u001b[0m\u001b[0m\n\u001b[0m",
      "\u001b[0;31mInternalError\u001b[0m: Unread result found"
     ]
    }
   ],
   "source": [
    "# WHERE\n",
    "#sql = \"SELECT * FROM customers_list WHERE address ='Park Lane 38'\"\n",
    "\n",
    "cur.execute(\"SELECT * FROM customers_list\")\n",
    "\n",
    "myresult1 = cur.fetchall()\n",
    "\n",
    "for x in myresult1:\n",
    "  print(x)"
   ]
  },
  {
   "cell_type": "code",
   "execution_count": null,
   "id": "dbbbec68-ec34-4d1e-94b9-04b585bdf7ad",
   "metadata": {},
   "outputs": [],
   "source": [
    "# WHERE\n",
    "#sql = \"SELECT * FROM customers_list WHERE address ='Park Lane 38'\"\n",
    "\n",
    "cur.execute(\"SELECT * FROM customers_list WHERE address LIKE 'Park Lane 38'\")\n",
    "\n",
    "myresult = cur.fetchall()\n",
    "\n",
    "for x in myresult:\n",
    "  print(x)"
   ]
  },
  {
   "cell_type": "code",
   "execution_count": null,
   "id": "9c445bab",
   "metadata": {},
   "outputs": [],
   "source": []
  }
 ],
 "metadata": {
  "kernelspec": {
   "display_name": "Python 3 (ipykernel)",
   "language": "python",
   "name": "python3"
  },
  "language_info": {
   "codemirror_mode": {
    "name": "ipython",
    "version": 3
   },
   "file_extension": ".py",
   "mimetype": "text/x-python",
   "name": "python",
   "nbconvert_exporter": "python",
   "pygments_lexer": "ipython3",
   "version": "3.9.7"
  }
 },
 "nbformat": 4,
 "nbformat_minor": 5
}
