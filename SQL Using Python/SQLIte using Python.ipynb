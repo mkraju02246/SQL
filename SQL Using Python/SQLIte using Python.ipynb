{
 "cells": [
  {
   "cell_type": "markdown",
   "id": "9e44b750",
   "metadata": {},
   "source": [
    "### SQLite\n",
    "\n",
    "* Unlikely the other Databases, SQLite don not need any user and password.\n",
    "* Python has inbuilt package for SQLite.\n",
    "\n",
    "#### Package Import"
   ]
  },
  {
   "cell_type": "code",
   "execution_count": 1,
   "id": "5cc46cb4",
   "metadata": {},
   "outputs": [],
   "source": [
    "import sqlite3 as sq"
   ]
  },
  {
   "cell_type": "markdown",
   "id": "c4dc20a2",
   "metadata": {},
   "source": [
    "#### SQLite Connection to Database\n",
    "\n",
    "With the help of sqlite3.connect() we can connect to the database(or create if not exist and then connect)"
   ]
  },
  {
   "cell_type": "code",
   "execution_count": 2,
   "id": "54c9ee37",
   "metadata": {},
   "outputs": [],
   "source": [
    "conn = sq.connect('SQLITE_Demo_DB.db')"
   ]
  },
  {
   "cell_type": "markdown",
   "id": "e4d3c98e",
   "metadata": {},
   "source": [
    "### Cursor Object Creation\n",
    "Here we are creating cursor object, using which we can execute SQL queries. \n"
   ]
  },
  {
   "cell_type": "code",
   "execution_count": 3,
   "id": "79300a50",
   "metadata": {},
   "outputs": [],
   "source": [
    "c=conn.cursor()"
   ]
  },
  {
   "cell_type": "markdown",
   "id": "c6d2decd",
   "metadata": {},
   "source": [
    "### Create Table"
   ]
  },
  {
   "cell_type": "code",
   "execution_count": 11,
   "id": "a5f81b05",
   "metadata": {},
   "outputs": [],
   "source": [
    "def create_sqlite3_table():\n",
    "    c.execute(\"CREATE TABLE IF NOT EXISTS StudentsDB(StudentId int, Full_Name TEXT, Course TEXT)\")"
   ]
  },
  {
   "cell_type": "code",
   "execution_count": 19,
   "id": "da6f04e8",
   "metadata": {},
   "outputs": [],
   "source": [
    "def data_entry_table():\n",
    "    c.execute(\"INSERT INTO Students_Course VALUES(1,'Rohan Mukharjee','Python')\")\n",
    "    c.execute(\"INSERT INTO Students_Course VALUES(2, 'Peterson', 'SQL')\")\n",
    "    c.execute(\"INSERT INTO Students_Course VALUES(3, 'Amira', 'C++')\")\n",
    "    c.execute(\"INSERT INTO Students_Course VALUES( 4,'Harry', 'Datascience')\")\n",
    "    c.execute(\"INSERT INTO Students_Course VALUES(5, 'Mike', 'Java')\")\n",
    "    \n",
    "    \n",
    "    conn.commit()\n",
    "    #c.close()\n",
    "    #conn.close()"
   ]
  },
  {
   "cell_type": "code",
   "execution_count": 20,
   "id": "39f3fab7",
   "metadata": {},
   "outputs": [],
   "source": [
    "create_sqlite3_table()\n",
    "data_entry_table()"
   ]
  },
  {
   "cell_type": "code",
   "execution_count": 8,
   "id": "36583d8d",
   "metadata": {},
   "outputs": [],
   "source": [
    "conn = sq.connect('SQLITE_Demo_DB.db')\n",
    "c=conn.cursor()"
   ]
  },
  {
   "cell_type": "code",
   "execution_count": 21,
   "id": "726ba718",
   "metadata": {},
   "outputs": [],
   "source": [
    "def show_table_data():\n",
    "    \n",
    "    c.execute(\"select * from StudentsDB\")\n",
    "    data = c.fetchall()\n",
    "    print(data)\n",
    "    for row in data:\n",
    "        print(row)"
   ]
  },
  {
   "cell_type": "code",
   "execution_count": 22,
   "id": "e9421f4d",
   "metadata": {},
   "outputs": [
    {
     "name": "stdout",
     "output_type": "stream",
     "text": [
      "[(1.0, 'Rohan Mukharjee', 'Python'), (1.0, 'Rohan Mukharjee', 'Python'), (2.0, 'Peterson', 'SQL'), (3.0, 'Amira', 'C++'), (4.0, 'Harry', 'Datascience'), (5.0, 'Mike', 'Java')]\n",
      "(1.0, 'Rohan Mukharjee', 'Python')\n",
      "(1.0, 'Rohan Mukharjee', 'Python')\n",
      "(2.0, 'Peterson', 'SQL')\n",
      "(3.0, 'Amira', 'C++')\n",
      "(4.0, 'Harry', 'Datascience')\n",
      "(5.0, 'Mike', 'Java')\n"
     ]
    }
   ],
   "source": [
    "show_table_data()"
   ]
  },
  {
   "cell_type": "code",
   "execution_count": null,
   "id": "f66e25ac-5c05-423d-9a20-43fc9a6b8b6f",
   "metadata": {},
   "outputs": [],
   "source": []
  }
 ],
 "metadata": {
  "kernelspec": {
   "display_name": "Python 3 (ipykernel)",
   "language": "python",
   "name": "python3"
  },
  "language_info": {
   "codemirror_mode": {
    "name": "ipython",
    "version": 3
   },
   "file_extension": ".py",
   "mimetype": "text/x-python",
   "name": "python",
   "nbconvert_exporter": "python",
   "pygments_lexer": "ipython3",
   "version": "3.9.7"
  }
 },
 "nbformat": 4,
 "nbformat_minor": 5
}
